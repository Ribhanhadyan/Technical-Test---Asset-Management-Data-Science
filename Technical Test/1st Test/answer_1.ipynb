{
 "cells": [
  {
   "cell_type": "code",
   "execution_count": 12,
   "metadata": {},
   "outputs": [],
   "source": [
    "import pandas as pd\n",
    "import re"
   ]
  },
  {
   "cell_type": "code",
   "execution_count": 13,
   "metadata": {},
   "outputs": [],
   "source": [
    "df = pd.read_csv('customer.csv')"
   ]
  },
  {
   "cell_type": "code",
   "execution_count": 14,
   "metadata": {},
   "outputs": [
    {
     "data": {
      "text/html": [
       "<div>\n",
       "<style scoped>\n",
       "    .dataframe tbody tr th:only-of-type {\n",
       "        vertical-align: middle;\n",
       "    }\n",
       "\n",
       "    .dataframe tbody tr th {\n",
       "        vertical-align: top;\n",
       "    }\n",
       "\n",
       "    .dataframe thead th {\n",
       "        text-align: right;\n",
       "    }\n",
       "</style>\n",
       "<table border=\"1\" class=\"dataframe\">\n",
       "  <thead>\n",
       "    <tr style=\"text-align: right;\">\n",
       "      <th></th>\n",
       "      <th>id</th>\n",
       "      <th>customer</th>\n",
       "    </tr>\n",
       "  </thead>\n",
       "  <tbody>\n",
       "    <tr>\n",
       "      <th>0</th>\n",
       "      <td>OFA00000053</td>\n",
       "      <td>ABBAS, Mohammad Hasan (a.k.a. ABBAS, Mohammad ...</td>\n",
       "    </tr>\n",
       "    <tr>\n",
       "      <th>1</th>\n",
       "      <td>OFA00000054</td>\n",
       "      <td>ABDULAH, Hassanudin (a.k.a. ABDUL, Hasanudin; ...</td>\n",
       "    </tr>\n",
       "  </tbody>\n",
       "</table>\n",
       "</div>"
      ],
      "text/plain": [
       "            id                                           customer\n",
       "0  OFA00000053  ABBAS, Mohammad Hasan (a.k.a. ABBAS, Mohammad ...\n",
       "1  OFA00000054  ABDULAH, Hassanudin (a.k.a. ABDUL, Hasanudin; ..."
      ]
     },
     "execution_count": 14,
     "metadata": {},
     "output_type": "execute_result"
    }
   ],
   "source": [
    "df"
   ]
  },
  {
   "cell_type": "code",
   "execution_count": 15,
   "metadata": {},
   "outputs": [],
   "source": [
    "def extract_customer_info(customer):\n",
    "    # Define regex patterns\n",
    "    patterns = {\n",
    "        'Nama1': r'^(.*?)(?:\\s*\\(a\\.k\\.a\\.)',\n",
    "        'Nama2': r'\\(a\\.k\\.a\\.\\s*(.*?);',\n",
    "        'Nama3': r';\\s*Gender\\s*.*?\\s*\\((.*?)\\)',\n",
    "        'Alamat': r';\\s*POB\\s*(.*?);',\n",
    "        'DOB': r'DOB\\s*(\\d{2}\\s\\w{3}\\s\\d{4})',\n",
    "        'POB': r'POB\\s*(.*?);',\n",
    "        'Gender': r'Gender\\s*(\\w+)\\s*\\('\n",
    "    }\n",
    "    \n",
    "    extracted_info = {}\n",
    "    for key, pattern in patterns.items():\n",
    "        match = re.search(pattern, customer)\n",
    "        extracted_info[key] = match.group(1).strip() if match else None\n",
    "\n",
    "    # Konversi DOB ke format yang diinginkan\n",
    "    if extracted_info['DOB']:\n",
    "        extracted_info['DOB'] = pd.to_datetime(extracted_info['DOB']).strftime('%Y%m%d')\n",
    "\n",
    "    return extracted_info\n"
   ]
  },
  {
   "cell_type": "code",
   "execution_count": 25,
   "metadata": {},
   "outputs": [
    {
     "data": {
      "text/html": [
       "<div>\n",
       "<style scoped>\n",
       "    .dataframe tbody tr th:only-of-type {\n",
       "        vertical-align: middle;\n",
       "    }\n",
       "\n",
       "    .dataframe tbody tr th {\n",
       "        vertical-align: top;\n",
       "    }\n",
       "\n",
       "    .dataframe thead th {\n",
       "        text-align: right;\n",
       "    }\n",
       "</style>\n",
       "<table border=\"1\" class=\"dataframe\">\n",
       "  <thead>\n",
       "    <tr style=\"text-align: right;\">\n",
       "      <th></th>\n",
       "      <th>Nama1</th>\n",
       "      <th>Nama2</th>\n",
       "      <th>Nama3</th>\n",
       "      <th>Alamat</th>\n",
       "      <th>DOB</th>\n",
       "      <th>POB</th>\n",
       "      <th>Gender</th>\n",
       "    </tr>\n",
       "  </thead>\n",
       "  <tbody>\n",
       "    <tr>\n",
       "      <th>0</th>\n",
       "      <td>ABBAS, Mohammad Hasan</td>\n",
       "      <td>ABBAS, Mohammad Hassan</td>\n",
       "      <td>individual</td>\n",
       "      <td>Al Ladhiqiyah, Syria</td>\n",
       "      <td>19640901</td>\n",
       "      <td>Al Ladhiqiyah, Syria</td>\n",
       "      <td>Male</td>\n",
       "    </tr>\n",
       "    <tr>\n",
       "      <th>1</th>\n",
       "      <td>ABDULAH, Hassanudin</td>\n",
       "      <td>ABDUL, Hasanudin</td>\n",
       "      <td>individual</td>\n",
       "      <td>Al Ladhiqiyah, Syria</td>\n",
       "      <td>19640901</td>\n",
       "      <td>Al Ladhiqiyah, Syria</td>\n",
       "      <td>Male</td>\n",
       "    </tr>\n",
       "  </tbody>\n",
       "</table>\n",
       "</div>"
      ],
      "text/plain": [
       "                   Nama1                   Nama2       Nama3  \\\n",
       "0  ABBAS, Mohammad Hasan  ABBAS, Mohammad Hassan  individual   \n",
       "1    ABDULAH, Hassanudin        ABDUL, Hasanudin  individual   \n",
       "\n",
       "                 Alamat       DOB                   POB Gender  \n",
       "0  Al Ladhiqiyah, Syria  19640901  Al Ladhiqiyah, Syria   Male  \n",
       "1  Al Ladhiqiyah, Syria  19640901  Al Ladhiqiyah, Syria   Male  "
      ]
     },
     "execution_count": 25,
     "metadata": {},
     "output_type": "execute_result"
    }
   ],
   "source": [
    "extracted_data = df['customer'].apply(extract_customer_info)\n",
    "extracted_df = pd.DataFrame(list(extracted_data))\n",
    "extracted_df"
   ]
  },
  {
   "cell_type": "code",
   "execution_count": 27,
   "metadata": {},
   "outputs": [],
   "source": [
    "extracted_df['id'] = df['id']\n",
    "cols = ['id'] + [col for col in extracted_df.columns if col != 'id']\n",
    "extracted_df = extracted_df[cols]"
   ]
  },
  {
   "cell_type": "code",
   "execution_count": 28,
   "metadata": {},
   "outputs": [
    {
     "data": {
      "text/html": [
       "<div>\n",
       "<style scoped>\n",
       "    .dataframe tbody tr th:only-of-type {\n",
       "        vertical-align: middle;\n",
       "    }\n",
       "\n",
       "    .dataframe tbody tr th {\n",
       "        vertical-align: top;\n",
       "    }\n",
       "\n",
       "    .dataframe thead th {\n",
       "        text-align: right;\n",
       "    }\n",
       "</style>\n",
       "<table border=\"1\" class=\"dataframe\">\n",
       "  <thead>\n",
       "    <tr style=\"text-align: right;\">\n",
       "      <th></th>\n",
       "      <th>id</th>\n",
       "      <th>Nama1</th>\n",
       "      <th>Nama2</th>\n",
       "      <th>Nama3</th>\n",
       "      <th>Alamat</th>\n",
       "      <th>DOB</th>\n",
       "      <th>POB</th>\n",
       "      <th>Gender</th>\n",
       "    </tr>\n",
       "  </thead>\n",
       "  <tbody>\n",
       "    <tr>\n",
       "      <th>0</th>\n",
       "      <td>OFA00000053</td>\n",
       "      <td>ABBAS, Mohammad Hasan</td>\n",
       "      <td>ABBAS, Mohammad Hassan</td>\n",
       "      <td>individual</td>\n",
       "      <td>Al Ladhiqiyah, Syria</td>\n",
       "      <td>19640901</td>\n",
       "      <td>Al Ladhiqiyah, Syria</td>\n",
       "      <td>Male</td>\n",
       "    </tr>\n",
       "    <tr>\n",
       "      <th>1</th>\n",
       "      <td>OFA00000054</td>\n",
       "      <td>ABDULAH, Hassanudin</td>\n",
       "      <td>ABDUL, Hasanudin</td>\n",
       "      <td>individual</td>\n",
       "      <td>Al Ladhiqiyah, Syria</td>\n",
       "      <td>19640901</td>\n",
       "      <td>Al Ladhiqiyah, Syria</td>\n",
       "      <td>Male</td>\n",
       "    </tr>\n",
       "  </tbody>\n",
       "</table>\n",
       "</div>"
      ],
      "text/plain": [
       "            id                  Nama1                   Nama2       Nama3  \\\n",
       "0  OFA00000053  ABBAS, Mohammad Hasan  ABBAS, Mohammad Hassan  individual   \n",
       "1  OFA00000054    ABDULAH, Hassanudin        ABDUL, Hasanudin  individual   \n",
       "\n",
       "                 Alamat       DOB                   POB Gender  \n",
       "0  Al Ladhiqiyah, Syria  19640901  Al Ladhiqiyah, Syria   Male  \n",
       "1  Al Ladhiqiyah, Syria  19640901  Al Ladhiqiyah, Syria   Male  "
      ]
     },
     "execution_count": 28,
     "metadata": {},
     "output_type": "execute_result"
    }
   ],
   "source": [
    "extracted_df"
   ]
  },
  {
   "cell_type": "code",
   "execution_count": null,
   "metadata": {},
   "outputs": [],
   "source": []
  }
 ],
 "metadata": {
  "kernelspec": {
   "display_name": "Python 3",
   "language": "python",
   "name": "python3"
  },
  "language_info": {
   "codemirror_mode": {
    "name": "ipython",
    "version": 3
   },
   "file_extension": ".py",
   "mimetype": "text/x-python",
   "name": "python",
   "nbconvert_exporter": "python",
   "pygments_lexer": "ipython3",
   "version": "3.10.11"
  }
 },
 "nbformat": 4,
 "nbformat_minor": 2
}
